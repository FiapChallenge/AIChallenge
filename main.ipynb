{
 "cells": [
  {
   "cell_type": "code",
   "execution_count": 23,
   "metadata": {},
   "outputs": [],
   "source": [
    "#Preencha Nome Completo e RM's dos integrantes\n",
    "# 👤| Integrantes - RM :\n",
    "# Augusto Barcelos Barros - 98078\n",
    "# Gabriel Gribl de Carvalho - 96270\n",
    "# Gabriel Souza de Queiroz - 98570\n",
    "# Gabriela Zanotto Alves Rodrigues - 551629"
   ]
  },
  {
   "cell_type": "code",
   "execution_count": 24,
   "metadata": {},
   "outputs": [
    {
     "data": {
      "text/html": [
       "<div>\n",
       "<style scoped>\n",
       "    .dataframe tbody tr th:only-of-type {\n",
       "        vertical-align: middle;\n",
       "    }\n",
       "\n",
       "    .dataframe tbody tr th {\n",
       "        vertical-align: top;\n",
       "    }\n",
       "\n",
       "    .dataframe thead th {\n",
       "        text-align: right;\n",
       "    }\n",
       "</style>\n",
       "<table border=\"1\" class=\"dataframe\">\n",
       "  <thead>\n",
       "    <tr style=\"text-align: right;\">\n",
       "      <th></th>\n",
       "      <th>NOME</th>\n",
       "      <th>MARCA</th>\n",
       "      <th>SITUAÇÃO</th>\n",
       "      <th>TIPO DE GUINCHO</th>\n",
       "    </tr>\n",
       "  </thead>\n",
       "  <tbody>\n",
       "    <tr>\n",
       "      <th>0</th>\n",
       "      <td>HR</td>\n",
       "      <td>HYUNDAI</td>\n",
       "      <td>Pane mecânica</td>\n",
       "      <td>Guincho de cabo</td>\n",
       "    </tr>\n",
       "    <tr>\n",
       "      <th>1</th>\n",
       "      <td>1113</td>\n",
       "      <td>MERCEDES-BENZ</td>\n",
       "      <td>Acidente de trânsito</td>\n",
       "      <td>Guincho de plataforma</td>\n",
       "    </tr>\n",
       "    <tr>\n",
       "      <th>2</th>\n",
       "      <td>1214</td>\n",
       "      <td>MERCEDES-BENZ</td>\n",
       "      <td>Pneu furado</td>\n",
       "      <td>Guincho de cabo</td>\n",
       "    </tr>\n",
       "    <tr>\n",
       "      <th>3</th>\n",
       "      <td>1318</td>\n",
       "      <td>MERCEDES-BENZ</td>\n",
       "      <td>Problemas elétricos</td>\n",
       "      <td>Guincho elétrico</td>\n",
       "    </tr>\n",
       "    <tr>\n",
       "      <th>4</th>\n",
       "      <td>1519</td>\n",
       "      <td>MERCEDES-BENZ</td>\n",
       "      <td>Veículo preso ou atolado</td>\n",
       "      <td>Guincho de cabo</td>\n",
       "    </tr>\n",
       "    <tr>\n",
       "      <th>...</th>\n",
       "      <td>...</td>\n",
       "      <td>...</td>\n",
       "      <td>...</td>\n",
       "      <td>...</td>\n",
       "    </tr>\n",
       "    <tr>\n",
       "      <th>95</th>\n",
       "      <td>1944-S</td>\n",
       "      <td>MERCEDES-BENZ</td>\n",
       "      <td>Veículo sobrecarregado</td>\n",
       "      <td>Guincho de tambor</td>\n",
       "    </tr>\n",
       "    <tr>\n",
       "      <th>96</th>\n",
       "      <td>2038</td>\n",
       "      <td>MERCEDES-BENZ</td>\n",
       "      <td>Transporte especializado</td>\n",
       "      <td>Guincho Hidráulico</td>\n",
       "    </tr>\n",
       "    <tr>\n",
       "      <th>97</th>\n",
       "      <td>2418</td>\n",
       "      <td>MERCEDES-BENZ</td>\n",
       "      <td>Reboque de veículos desativados</td>\n",
       "      <td>Guincho de Reboque Especializado</td>\n",
       "    </tr>\n",
       "    <tr>\n",
       "      <th>98</th>\n",
       "      <td>2423</td>\n",
       "      <td>MERCEDES-BENZ</td>\n",
       "      <td>Situações de emergência</td>\n",
       "      <td>Guincho de resgate</td>\n",
       "    </tr>\n",
       "    <tr>\n",
       "      <th>99</th>\n",
       "      <td>2638</td>\n",
       "      <td>MERCEDES-BENZ</td>\n",
       "      <td>Manutenção programada</td>\n",
       "      <td>Transporte para ou de uma oficina</td>\n",
       "    </tr>\n",
       "  </tbody>\n",
       "</table>\n",
       "<p>100 rows × 4 columns</p>\n",
       "</div>"
      ],
      "text/plain": [
       "      NOME          MARCA                         SITUAÇÃO  \\\n",
       "0       HR        HYUNDAI                    Pane mecânica   \n",
       "1     1113  MERCEDES-BENZ             Acidente de trânsito   \n",
       "2     1214  MERCEDES-BENZ                      Pneu furado   \n",
       "3     1318  MERCEDES-BENZ              Problemas elétricos   \n",
       "4     1519  MERCEDES-BENZ         Veículo preso ou atolado   \n",
       "..     ...            ...                              ...   \n",
       "95  1944-S  MERCEDES-BENZ           Veículo sobrecarregado   \n",
       "96    2038  MERCEDES-BENZ         Transporte especializado   \n",
       "97    2418  MERCEDES-BENZ  Reboque de veículos desativados   \n",
       "98    2423  MERCEDES-BENZ          Situações de emergência   \n",
       "99    2638  MERCEDES-BENZ            Manutenção programada   \n",
       "\n",
       "                      TIPO DE GUINCHO  \n",
       "0                     Guincho de cabo  \n",
       "1               Guincho de plataforma  \n",
       "2                     Guincho de cabo  \n",
       "3                    Guincho elétrico  \n",
       "4                     Guincho de cabo  \n",
       "..                                ...  \n",
       "95                  Guincho de tambor  \n",
       "96                 Guincho Hidráulico  \n",
       "97   Guincho de Reboque Especializado  \n",
       "98                 Guincho de resgate  \n",
       "99  Transporte para ou de uma oficina  \n",
       "\n",
       "[100 rows x 4 columns]"
      ]
     },
     "execution_count": 24,
     "metadata": {},
     "output_type": "execute_result"
    }
   ],
   "source": [
    "# Carregando o dataset\n",
    "import pandas as pd\n",
    "\n",
    "X_read = pd.read_csv(\"data/guinchei-dados.csv\")\n",
    "\n",
    "# Primeiras 100 linhas\n",
    "X_read[:100]"
   ]
  },
  {
   "cell_type": "code",
   "execution_count": 25,
   "metadata": {},
   "outputs": [
    {
     "data": {
      "text/plain": [
       "array([[0., 0., 0., ..., 0., 0., 0.],\n",
       "       [0., 0., 0., ..., 0., 0., 0.],\n",
       "       [0., 0., 0., ..., 0., 0., 0.],\n",
       "       ...,\n",
       "       [0., 0., 0., ..., 0., 0., 0.],\n",
       "       [0., 0., 0., ..., 0., 0., 0.],\n",
       "       [0., 0., 0., ..., 0., 0., 0.]])"
      ]
     },
     "execution_count": 25,
     "metadata": {},
     "output_type": "execute_result"
    }
   ],
   "source": [
    "# Crie uma instância do OneHotEncoder\n",
    "from sklearn.preprocessing import OneHotEncoder\n",
    "import joblib\n",
    "\n",
    "\n",
    "encoder = OneHotEncoder()\n",
    "\n",
    "# Ajuste o encoder aos dados categóricos\n",
    "encoder.fit(X_read[[\"NOME\", \"MARCA\", \"SITUAÇÃO\"]])\n",
    "# Nome e marca serão importantes no futuro, quando tiver mais dados, por isso, vamos mantê-los no dataset\n",
    "\n",
    "# Transforme os dados categóricos em codificação one-hot\n",
    "X = encoder.transform(X_read[[\"NOME\", \"MARCA\", \"SITUAÇÃO\"]]).toarray()  # type: ignore\n",
    "\n",
    "\n",
    "# Salve o encoder\n",
    "joblib.dump(encoder, \"model/one_hot_encoder.pickle\")\n",
    "\n",
    "X[:100]"
   ]
  },
  {
   "cell_type": "code",
   "execution_count": 26,
   "metadata": {},
   "outputs": [
    {
     "data": {
      "text/plain": [
       "0                                 Guincho de cabo\n",
       "1                           Guincho de plataforma\n",
       "2                                 Guincho de cabo\n",
       "3                                Guincho elétrico\n",
       "4                                 Guincho de cabo\n",
       "                          ...                    \n",
       "195                             Guincho de tambor\n",
       "196                            Guincho Hidráulico\n",
       "197              Guincho de Reboque Especializado\n",
       "198                            Guincho de resgate\n",
       "199    Transporte de peças e equipamentos pesados\n",
       "Name: TIPO DE GUINCHO, Length: 200, dtype: object"
      ]
     },
     "execution_count": 26,
     "metadata": {},
     "output_type": "execute_result"
    }
   ],
   "source": [
    "y = X_read['TIPO DE GUINCHO']\n",
    "y"
   ]
  },
  {
   "cell_type": "code",
   "execution_count": 27,
   "metadata": {},
   "outputs": [],
   "source": [
    "from sklearn.model_selection import train_test_split\n",
    "\n",
    "x_train, x_test, y_train, y_test = train_test_split(\n",
    "    X, y, test_size=0.2, random_state=42\n",
    ")"
   ]
  },
  {
   "cell_type": "code",
   "execution_count": 28,
   "metadata": {},
   "outputs": [
    {
     "data": {
      "text/plain": [
       "['model/model.pickle']"
      ]
     },
     "execution_count": 28,
     "metadata": {},
     "output_type": "execute_result"
    }
   ],
   "source": [
    "# Criar o modelo Random Forest\n",
    "from sklearn.ensemble import RandomForestClassifier\n",
    "\n",
    "model = RandomForestClassifier(n_estimators=500, random_state=42)\n",
    "\n",
    "model.fit(x_train, y_train)\n",
    "\n",
    "# salvar o modelo\n",
    "joblib.dump(model, \"model/model.pickle\")"
   ]
  },
  {
   "cell_type": "code",
   "execution_count": 29,
   "metadata": {},
   "outputs": [],
   "source": [
    "y_pred = model.predict(x_test)"
   ]
  },
  {
   "cell_type": "code",
   "execution_count": 30,
   "metadata": {},
   "outputs": [
    {
     "name": "stdout",
     "output_type": "stream",
     "text": [
      "Acurácia: 0.975\n",
      "Precisão: 0.7777777777777778\n",
      "Recall: 0.7777777777777778\n",
      "F1-Score: 0.7777777777777778\n"
     ]
    }
   ],
   "source": [
    "# Verificar a acurácia, precisão e recall e f1-score\n",
    "from sklearn.metrics import precision_score, recall_score, f1_score, accuracy_score\n",
    "\n",
    "print(f\"Acurácia: {accuracy_score(y_test, y_pred)}\")\n",
    "print(f'Precisão: {precision_score(y_test, y_pred, average=\"macro\", zero_division=0)}')\n",
    "print(f'Recall: {recall_score(y_test, y_pred, average=\"macro\", zero_division=0)}')\n",
    "print(f'F1-Score: {f1_score(y_test, y_pred, average=\"macro\")}')"
   ]
  },
  {
   "cell_type": "code",
   "execution_count": 31,
   "metadata": {},
   "outputs": [],
   "source": [
    "tipos = X_read['TIPO DE GUINCHO'].unique()"
   ]
  },
  {
   "cell_type": "code",
   "execution_count": 32,
   "metadata": {},
   "outputs": [
    {
     "data": {
      "text/plain": [
       "{'Guincho de cabo': 13,\n",
       " 'Guincho de plataforma': 0,\n",
       " 'Guincho elétrico': 1,\n",
       " 'Guincho de tambor': 10,\n",
       " 'Guincho Hidráulico': 5,\n",
       " 'Guincho de Reboque Especializado': 3,\n",
       " 'Guincho de resgate': 6,\n",
       " 'Movimentação dentro da oficina': 1,\n",
       " 'Transporte para ou de uma oficina': 0,\n",
       " 'Levantamento para manutenção em áreas elevadas': 0,\n",
       " 'Transporte de peças e equipamentos pesados': 1}"
      ]
     },
     "execution_count": 32,
     "metadata": {},
     "output_type": "execute_result"
    }
   ],
   "source": [
    "# Contar quantos valores de cada tipo foram previstos\n",
    "y_pred_count = {}\n",
    "for tipo in tipos:\n",
    "    y_pred_count[tipo] = len(y_pred[y_pred == tipo])\n",
    "\n",
    "y_pred_count"
   ]
  },
  {
   "cell_type": "code",
   "execution_count": 33,
   "metadata": {},
   "outputs": [
    {
     "data": {
      "image/png": "[encoded data removed]",
      "text/plain": [
       "<Figure size 800x600 with 2 Axes>"
      ]
     },
     "metadata": {},
     "output_type": "display_data"
    }
   ],
   "source": [
    "# Plote a matriz de confusão\n",
    "from sklearn.metrics import confusion_matrix\n",
    "import matplotlib.pyplot as plt\n",
    "import seaborn as sns\n",
    "\n",
    "conf_matrix = confusion_matrix(y_true=y_test, y_pred=y_pred, labels=tipos)\n",
    "\n",
    "plt.figure(figsize=(8, 6))\n",
    "sns.heatmap(\n",
    "    conf_matrix,\n",
    "    annot=True,\n",
    "    fmt=\"d\",\n",
    "    cmap=\"Blues\",\n",
    "    # Mostra os tipos invés dos números\n",
    "    # xticklabels=tipos,\n",
    "    # yticklabels=tipos,\n",
    ")\n",
    "plt.xlabel(\"Previsto\")\n",
    "plt.ylabel(\"Real\")\n",
    "plt.title(\"Matriz de Confusão\")\n",
    "plt.show()"
   ]
  }
 ],
 "metadata": {
  "kernelspec": {
   "display_name": "Python 3",
   "language": "python",
   "name": "python3"
  },
  "language_info": {
   "codemirror_mode": {
    "name": "ipython",
    "version": 3
   },
   "file_extension": ".py",
   "mimetype": "text/x-python",
   "name": "python",
   "nbconvert_exporter": "python",
   "pygments_lexer": "ipython3",
   "version": "3.11.2"
  },
  "orig_nbformat": 4
 },
 "nbformat": 4,
 "nbformat_minor": 2
}
